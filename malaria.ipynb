{
 "cells": [
  {
   "cell_type": "markdown",
   "metadata": {},
   "source": [
    "## Malaria Detection"
   ]
  },
  {
   "cell_type": "code",
   "execution_count": 5,
   "metadata": {
    "id": "sjF5l4_3UP3U"
   },
   "outputs": [],
   "source": [
    "import tensorflow"
   ]
  },
  {
   "cell_type": "code",
   "execution_count": 6,
   "metadata": {
    "colab": {
     "base_uri": "https://localhost:8080/"
    },
    "id": "P8CbcF_gUk8J",
    "outputId": "60fe5752-04d0-470e-9643-e545fd61889f"
   },
   "outputs": [
    {
     "name": "stdout",
     "output_type": "stream",
     "text": [
      "2.3.0\n"
     ]
    }
   ],
   "source": [
    "import tensorflow as tf\n",
    "print(tf.__version__)"
   ]
  },
  {
   "cell_type": "code",
   "execution_count": 7,
   "metadata": {
    "id": "lBQFmQIgV6jI"
   },
   "outputs": [],
   "source": [
    "from tensorflow.keras.layers import Input, Lambda, Dense, Flatten,Conv2D\n",
    "from tensorflow.keras.models import Model\n",
    "from tensorflow.keras.applications.vgg19 import VGG19\n",
    "from tensorflow.keras.applications.resnet50 import preprocess_input\n",
    "from tensorflow.keras.preprocessing import image\n",
    "from tensorflow.keras.preprocessing.image import ImageDataGenerator,load_img\n",
    "from tensorflow.keras.models import Sequential\n",
    "import numpy as np\n",
    "from glob import glob\n",
    "import matplotlib.pyplot as plt"
   ]
  },
  {
   "cell_type": "code",
   "execution_count": 8,
   "metadata": {
    "colab": {
     "base_uri": "https://localhost:8080/"
    },
    "id": "e4MWRVR-XDO9",
    "outputId": "f95aa69b-a81a-4197-88b0-6da22040be6d"
   },
   "outputs": [
    {
     "name": "stdout",
     "output_type": "stream",
     "text": [
      "Drive already mounted at /content/drive; to attempt to forcibly remount, call drive.mount(\"/content/drive\", force_remount=True).\n"
     ]
    }
   ],
   "source": [
    "from google.colab import drive\n",
    "drive.mount('/content/drive')"
   ]
  },
  {
   "cell_type": "code",
   "execution_count": 9,
   "metadata": {
    "id": "Z71sKxmSXaYm"
   },
   "outputs": [],
   "source": [
    "image_size = [224,224]\n",
    "\n",
    "Train_data_path = '/content/drive/My Drive/Deep learning CNN  Data Sets/Malaria-Detection-master/Dataset/Train' \n",
    "\n",
    "\n",
    "Test_data_path = '/content/drive/My Drive/Deep learning CNN  Data Sets/Malaria-Detection-master/Dataset/Test'"
   ]
  },
  {
   "cell_type": "code",
   "execution_count": 10,
   "metadata": {
    "colab": {
     "base_uri": "https://localhost:8080/"
    },
    "id": "lHZB2pR1izaF",
    "outputId": "d129f695-0e54-47fb-f574-c082408ea0dd"
   },
   "outputs": [
    {
     "name": "stdout",
     "output_type": "stream",
     "text": [
      "Downloading data from https://storage.googleapis.com/tensorflow/keras-applications/vgg19/vgg19_weights_tf_dim_ordering_tf_kernels_notop.h5\n",
      "80142336/80134624 [==============================] - 1s 0us/step\n"
     ]
    }
   ],
   "source": [
    "Tr_LR = VGG19(input_shape = image_size + [3] , weights = 'imagenet' , include_top = False)"
   ]
  },
  {
   "cell_type": "code",
   "execution_count": 11,
   "metadata": {
    "id": "zQj4JCWmjWIz"
   },
   "outputs": [],
   "source": [
    "for layers in Tr_LR.layers:\n",
    "  layers.trainable = False"
   ]
  },
  {
   "cell_type": "code",
   "execution_count": 12,
   "metadata": {
    "id": "ZL2swgiRkAup"
   },
   "outputs": [],
   "source": [
    "folders = glob('/content/drive/My Drive/Deep learning CNN  Data Sets/Malaria-Detection-master/Dataset/Train/*')\n"
   ]
  },
  {
   "cell_type": "code",
   "execution_count": 13,
   "metadata": {
    "colab": {
     "base_uri": "https://localhost:8080/"
    },
    "id": "Kygndx22kccl",
    "outputId": "74accaff-126f-4ef1-d3d9-25d32e60db5c"
   },
   "outputs": [
    {
     "data": {
      "text/plain": [
       "['/content/drive/My Drive/Deep learning CNN  Data Sets/Malaria-Detection-master/Dataset/Train/Uninfected',\n",
       " '/content/drive/My Drive/Deep learning CNN  Data Sets/Malaria-Detection-master/Dataset/Train/Parasite']"
      ]
     },
     "execution_count": 13,
     "metadata": {
      "tags": []
     },
     "output_type": "execute_result"
    }
   ],
   "source": [
    "folders"
   ]
  },
  {
   "cell_type": "code",
   "execution_count": 14,
   "metadata": {
    "id": "z0iviEptke2Q"
   },
   "outputs": [],
   "source": [
    "x = Flatten()(Tr_LR.output)"
   ]
  },
  {
   "cell_type": "code",
   "execution_count": 15,
   "metadata": {
    "id": "z5tvFqCBk2PR"
   },
   "outputs": [],
   "source": [
    "pred = Dense(len(folders) , activation='softmax')(x)"
   ]
  },
  {
   "cell_type": "code",
   "execution_count": 16,
   "metadata": {
    "id": "xRLtWx5TlHSI"
   },
   "outputs": [],
   "source": [
    "model = Model(inputs = Tr_LR.input, outputs = pred)"
   ]
  },
  {
   "cell_type": "code",
   "execution_count": 17,
   "metadata": {
    "colab": {
     "base_uri": "https://localhost:8080/"
    },
    "id": "4gUp-q86lyAv",
    "outputId": "4afe9d7d-e57f-4c7f-87a9-e8b33a29c69a"
   },
   "outputs": [
    {
     "name": "stdout",
     "output_type": "stream",
     "text": [
      "Model: \"functional_1\"\n",
      "_________________________________________________________________\n",
      "Layer (type)                 Output Shape              Param #   \n",
      "=================================================================\n",
      "input_1 (InputLayer)         [(None, 224, 224, 3)]     0         \n",
      "_________________________________________________________________\n",
      "block1_conv1 (Conv2D)        (None, 224, 224, 64)      1792      \n",
      "_________________________________________________________________\n",
      "block1_conv2 (Conv2D)        (None, 224, 224, 64)      36928     \n",
      "_________________________________________________________________\n",
      "block1_pool (MaxPooling2D)   (None, 112, 112, 64)      0         \n",
      "_________________________________________________________________\n",
      "block2_conv1 (Conv2D)        (None, 112, 112, 128)     73856     \n",
      "_________________________________________________________________\n",
      "block2_conv2 (Conv2D)        (None, 112, 112, 128)     147584    \n",
      "_________________________________________________________________\n",
      "block2_pool (MaxPooling2D)   (None, 56, 56, 128)       0         \n",
      "_________________________________________________________________\n",
      "block3_conv1 (Conv2D)        (None, 56, 56, 256)       295168    \n",
      "_________________________________________________________________\n",
      "block3_conv2 (Conv2D)        (None, 56, 56, 256)       590080    \n",
      "_________________________________________________________________\n",
      "block3_conv3 (Conv2D)        (None, 56, 56, 256)       590080    \n",
      "_________________________________________________________________\n",
      "block3_conv4 (Conv2D)        (None, 56, 56, 256)       590080    \n",
      "_________________________________________________________________\n",
      "block3_pool (MaxPooling2D)   (None, 28, 28, 256)       0         \n",
      "_________________________________________________________________\n",
      "block4_conv1 (Conv2D)        (None, 28, 28, 512)       1180160   \n",
      "_________________________________________________________________\n",
      "block4_conv2 (Conv2D)        (None, 28, 28, 512)       2359808   \n",
      "_________________________________________________________________\n",
      "block4_conv3 (Conv2D)        (None, 28, 28, 512)       2359808   \n",
      "_________________________________________________________________\n",
      "block4_conv4 (Conv2D)        (None, 28, 28, 512)       2359808   \n",
      "_________________________________________________________________\n",
      "block4_pool (MaxPooling2D)   (None, 14, 14, 512)       0         \n",
      "_________________________________________________________________\n",
      "block5_conv1 (Conv2D)        (None, 14, 14, 512)       2359808   \n",
      "_________________________________________________________________\n",
      "block5_conv2 (Conv2D)        (None, 14, 14, 512)       2359808   \n",
      "_________________________________________________________________\n",
      "block5_conv3 (Conv2D)        (None, 14, 14, 512)       2359808   \n",
      "_________________________________________________________________\n",
      "block5_conv4 (Conv2D)        (None, 14, 14, 512)       2359808   \n",
      "_________________________________________________________________\n",
      "block5_pool (MaxPooling2D)   (None, 7, 7, 512)         0         \n",
      "_________________________________________________________________\n",
      "flatten (Flatten)            (None, 25088)             0         \n",
      "_________________________________________________________________\n",
      "dense (Dense)                (None, 2)                 50178     \n",
      "=================================================================\n",
      "Total params: 20,074,562\n",
      "Trainable params: 50,178\n",
      "Non-trainable params: 20,024,384\n",
      "_________________________________________________________________\n"
     ]
    }
   ],
   "source": [
    "model.summary()"
   ]
  },
  {
   "cell_type": "code",
   "execution_count": 18,
   "metadata": {
    "id": "myWBE4_Pl1fO"
   },
   "outputs": [],
   "source": [
    "model.compile(loss = 'categorical_crossentropy',optimizer='adam',metrics=['accuracy'])"
   ]
  },
  {
   "cell_type": "code",
   "execution_count": 19,
   "metadata": {
    "id": "JWe2ZrWYovTI"
   },
   "outputs": [],
   "source": [
    "from tensorflow.keras.preprocessing.image import ImageDataGenerator,load_img"
   ]
  },
  {
   "cell_type": "code",
   "execution_count": 20,
   "metadata": {
    "id": "OqlxI_XlpoJq"
   },
   "outputs": [],
   "source": [
    "train_data_Gen = ImageDataGenerator(rescale = 1./255,\n",
    "                                   shear_range = 0.2,\n",
    "                                   zoom_range = 0.2,\n",
    "                                   horizontal_flip = True)\n",
    "\n",
    "\n",
    "test_data_Gen = ImageDataGenerator(rescale=1./255)"
   ]
  },
  {
   "cell_type": "code",
   "execution_count": 21,
   "metadata": {
    "colab": {
     "base_uri": "https://localhost:8080/"
    },
    "id": "RXmRRbYKp7Ud",
    "outputId": "d2fd83d4-16bc-4400-e98d-bf1acb4054f7"
   },
   "outputs": [
    {
     "name": "stdout",
     "output_type": "stream",
     "text": [
      "Found 416 images belonging to 2 classes.\n"
     ]
    }
   ],
   "source": [
    "training_data_set = train_data_Gen.flow_from_directory('/content/drive/My Drive/Deep learning CNN  Data Sets/Malaria-Detection-master/Dataset/Train',\n",
    "                                                       \n",
    "\n",
    "                                                       target_size = (224,224),\n",
    "                                                       batch_size = 32,\n",
    "                                                       class_mode = 'categorical'\n",
    "                                                    \n",
    "                                                       \n",
    "                                                       \n",
    "                                                       \n",
    "                                                       \n",
    "                                                       \n",
    "                                                       )"
   ]
  },
  {
   "cell_type": "code",
   "execution_count": 22,
   "metadata": {
    "colab": {
     "base_uri": "https://localhost:8080/"
    },
    "id": "Ag2ZWFgvqvEd",
    "outputId": "40db8bc9-0237-4089-d207-01574f0c1dc9"
   },
   "outputs": [
    {
     "data": {
      "text/plain": [
       "<tensorflow.python.keras.preprocessing.image.DirectoryIterator at 0x7f08f0140630>"
      ]
     },
     "execution_count": 22,
     "metadata": {
      "tags": []
     },
     "output_type": "execute_result"
    }
   ],
   "source": [
    "training_data_set"
   ]
  },
  {
   "cell_type": "code",
   "execution_count": 23,
   "metadata": {
    "colab": {
     "base_uri": "https://localhost:8080/"
    },
    "id": "qsPigsfnrEfn",
    "outputId": "7b749ab3-de51-4b4a-fdc2-6610fa304dcc"
   },
   "outputs": [
    {
     "name": "stdout",
     "output_type": "stream",
     "text": [
      "Found 134 images belonging to 2 classes.\n"
     ]
    }
   ],
   "source": [
    "test_data_set = test_data_Gen.flow_from_directory('/content/drive/My Drive/Deep learning CNN  Data Sets/Malaria-Detection-master/Dataset/Test',\n",
    "                                            target_size = (224, 224),\n",
    "                                            batch_size = 32,\n",
    "                                            class_mode = 'categorical')"
   ]
  },
  {
   "cell_type": "code",
   "execution_count": 24,
   "metadata": {
    "colab": {
     "base_uri": "https://localhost:8080/"
    },
    "id": "Y3eJPvlxrQqv",
    "outputId": "1e0386de-abc3-4646-a636-4230f41e50f7"
   },
   "outputs": [
    {
     "data": {
      "text/plain": [
       "<tensorflow.python.keras.preprocessing.image.DirectoryIterator at 0x7f08f0140e48>"
      ]
     },
     "execution_count": 24,
     "metadata": {
      "tags": []
     },
     "output_type": "execute_result"
    }
   ],
   "source": [
    "test_data_set"
   ]
  },
  {
   "cell_type": "code",
   "execution_count": 25,
   "metadata": {
    "colab": {
     "base_uri": "https://localhost:8080/"
    },
    "id": "qDtYXLMHrTns",
    "outputId": "5fa63169-dcc4-4a39-c5d2-e97c9a7aae11"
   },
   "outputs": [
    {
     "name": "stdout",
     "output_type": "stream",
     "text": [
      "WARNING:tensorflow:From <ipython-input-25-d3248c208c78>:6: Model.fit_generator (from tensorflow.python.keras.engine.training) is deprecated and will be removed in a future version.\n",
      "Instructions for updating:\n",
      "Please use Model.fit, which supports generators.\n",
      "Epoch 1/50\n",
      "13/13 [==============================] - 284s 22s/step - loss: 1.7227 - accuracy: 0.4880 - val_loss: 0.9932 - val_accuracy: 0.6791\n",
      "Epoch 2/50\n",
      "13/13 [==============================] - 5s 414ms/step - loss: 0.9392 - accuracy: 0.6106 - val_loss: 0.4888 - val_accuracy: 0.7612\n",
      "Epoch 3/50\n",
      "13/13 [==============================] - 5s 420ms/step - loss: 0.4692 - accuracy: 0.7596 - val_loss: 0.4700 - val_accuracy: 0.7463\n",
      "Epoch 4/50\n",
      "13/13 [==============================] - 5s 405ms/step - loss: 0.3571 - accuracy: 0.8582 - val_loss: 0.4499 - val_accuracy: 0.7985\n",
      "Epoch 5/50\n",
      "13/13 [==============================] - 5s 402ms/step - loss: 0.3083 - accuracy: 0.8990 - val_loss: 0.3736 - val_accuracy: 0.8134\n",
      "Epoch 6/50\n",
      "13/13 [==============================] - 5s 403ms/step - loss: 0.2943 - accuracy: 0.9038 - val_loss: 0.3675 - val_accuracy: 0.8284\n",
      "Epoch 7/50\n",
      "13/13 [==============================] - 5s 400ms/step - loss: 0.2675 - accuracy: 0.9135 - val_loss: 0.4145 - val_accuracy: 0.7836\n",
      "Epoch 8/50\n",
      "13/13 [==============================] - 5s 404ms/step - loss: 0.2611 - accuracy: 0.9014 - val_loss: 0.3637 - val_accuracy: 0.7836\n",
      "Epoch 9/50\n",
      "13/13 [==============================] - 5s 406ms/step - loss: 0.2491 - accuracy: 0.9135 - val_loss: 0.3516 - val_accuracy: 0.8806\n",
      "Epoch 10/50\n",
      "13/13 [==============================] - 5s 406ms/step - loss: 0.2421 - accuracy: 0.9038 - val_loss: 0.3152 - val_accuracy: 0.8881\n",
      "Epoch 11/50\n",
      "13/13 [==============================] - 5s 401ms/step - loss: 0.2925 - accuracy: 0.8702 - val_loss: 0.5023 - val_accuracy: 0.6791\n",
      "Epoch 12/50\n",
      "13/13 [==============================] - 5s 409ms/step - loss: 0.2784 - accuracy: 0.8798 - val_loss: 0.2902 - val_accuracy: 0.9030\n",
      "Epoch 13/50\n",
      "13/13 [==============================] - 5s 400ms/step - loss: 0.2031 - accuracy: 0.9327 - val_loss: 0.2750 - val_accuracy: 0.9104\n",
      "Epoch 14/50\n",
      "13/13 [==============================] - 5s 403ms/step - loss: 0.2180 - accuracy: 0.9327 - val_loss: 0.3930 - val_accuracy: 0.8134\n",
      "Epoch 15/50\n",
      "13/13 [==============================] - 5s 399ms/step - loss: 0.2396 - accuracy: 0.8942 - val_loss: 0.3019 - val_accuracy: 0.8433\n",
      "Epoch 16/50\n",
      "13/13 [==============================] - 5s 406ms/step - loss: 0.1958 - accuracy: 0.9279 - val_loss: 0.3213 - val_accuracy: 0.8507\n",
      "Epoch 17/50\n",
      "13/13 [==============================] - 5s 400ms/step - loss: 0.1704 - accuracy: 0.9375 - val_loss: 0.2715 - val_accuracy: 0.9179\n",
      "Epoch 18/50\n",
      "13/13 [==============================] - 5s 401ms/step - loss: 0.1991 - accuracy: 0.9399 - val_loss: 0.2658 - val_accuracy: 0.9030\n",
      "Epoch 19/50\n",
      "13/13 [==============================] - 5s 401ms/step - loss: 0.1863 - accuracy: 0.9207 - val_loss: 0.4283 - val_accuracy: 0.7761\n",
      "Epoch 20/50\n",
      "13/13 [==============================] - 5s 402ms/step - loss: 0.2005 - accuracy: 0.9231 - val_loss: 0.2331 - val_accuracy: 0.9179\n",
      "Epoch 21/50\n",
      "13/13 [==============================] - 5s 402ms/step - loss: 0.1499 - accuracy: 0.9471 - val_loss: 0.4414 - val_accuracy: 0.7612\n",
      "Epoch 22/50\n",
      "13/13 [==============================] - 5s 403ms/step - loss: 0.1509 - accuracy: 0.9567 - val_loss: 0.2199 - val_accuracy: 0.9328\n",
      "Epoch 23/50\n",
      "13/13 [==============================] - 5s 403ms/step - loss: 0.1821 - accuracy: 0.9255 - val_loss: 0.2273 - val_accuracy: 0.9179\n",
      "Epoch 24/50\n",
      "13/13 [==============================] - 5s 400ms/step - loss: 0.1593 - accuracy: 0.9447 - val_loss: 0.2900 - val_accuracy: 0.8657\n",
      "Epoch 25/50\n",
      "13/13 [==============================] - 5s 399ms/step - loss: 0.1303 - accuracy: 0.9567 - val_loss: 0.2334 - val_accuracy: 0.9179\n",
      "Epoch 26/50\n",
      "13/13 [==============================] - 5s 398ms/step - loss: 0.1412 - accuracy: 0.9543 - val_loss: 0.2859 - val_accuracy: 0.8881\n",
      "Epoch 27/50\n",
      "13/13 [==============================] - 5s 401ms/step - loss: 0.1407 - accuracy: 0.9471 - val_loss: 0.3894 - val_accuracy: 0.7836\n",
      "Epoch 28/50\n",
      "13/13 [==============================] - 5s 392ms/step - loss: 0.1079 - accuracy: 0.9688 - val_loss: 0.2305 - val_accuracy: 0.9104\n",
      "Epoch 29/50\n",
      "13/13 [==============================] - 5s 395ms/step - loss: 0.1216 - accuracy: 0.9688 - val_loss: 0.2531 - val_accuracy: 0.8955\n",
      "Epoch 30/50\n",
      "13/13 [==============================] - 5s 394ms/step - loss: 0.1247 - accuracy: 0.9663 - val_loss: 0.2255 - val_accuracy: 0.9254\n",
      "Epoch 31/50\n",
      "13/13 [==============================] - 5s 399ms/step - loss: 0.1092 - accuracy: 0.9639 - val_loss: 0.2770 - val_accuracy: 0.8806\n",
      "Epoch 32/50\n",
      "13/13 [==============================] - 5s 396ms/step - loss: 0.1092 - accuracy: 0.9712 - val_loss: 0.2157 - val_accuracy: 0.9403\n",
      "Epoch 33/50\n",
      "13/13 [==============================] - 5s 396ms/step - loss: 0.1038 - accuracy: 0.9663 - val_loss: 0.2546 - val_accuracy: 0.8955\n",
      "Epoch 34/50\n",
      "13/13 [==============================] - 5s 392ms/step - loss: 0.0959 - accuracy: 0.9760 - val_loss: 0.2081 - val_accuracy: 0.9328\n",
      "Epoch 35/50\n",
      "13/13 [==============================] - 5s 395ms/step - loss: 0.1168 - accuracy: 0.9567 - val_loss: 0.2597 - val_accuracy: 0.8881\n",
      "Epoch 36/50\n",
      "13/13 [==============================] - 5s 397ms/step - loss: 0.0923 - accuracy: 0.9760 - val_loss: 0.2769 - val_accuracy: 0.8806\n",
      "Epoch 37/50\n",
      "13/13 [==============================] - 5s 399ms/step - loss: 0.0935 - accuracy: 0.9760 - val_loss: 0.2011 - val_accuracy: 0.9328\n",
      "Epoch 38/50\n",
      "13/13 [==============================] - 5s 399ms/step - loss: 0.0896 - accuracy: 0.9760 - val_loss: 0.1959 - val_accuracy: 0.9254\n",
      "Epoch 39/50\n",
      "13/13 [==============================] - 5s 394ms/step - loss: 0.0971 - accuracy: 0.9712 - val_loss: 0.4291 - val_accuracy: 0.7687\n",
      "Epoch 40/50\n",
      "13/13 [==============================] - 5s 391ms/step - loss: 0.1024 - accuracy: 0.9591 - val_loss: 0.2019 - val_accuracy: 0.9403\n",
      "Epoch 41/50\n",
      "13/13 [==============================] - 5s 392ms/step - loss: 0.0857 - accuracy: 0.9832 - val_loss: 0.2043 - val_accuracy: 0.9179\n",
      "Epoch 42/50\n",
      "13/13 [==============================] - 5s 391ms/step - loss: 0.0950 - accuracy: 0.9784 - val_loss: 0.3106 - val_accuracy: 0.8507\n",
      "Epoch 43/50\n",
      "13/13 [==============================] - 5s 395ms/step - loss: 0.0821 - accuracy: 0.9736 - val_loss: 0.2054 - val_accuracy: 0.9328\n",
      "Epoch 44/50\n",
      "13/13 [==============================] - 5s 395ms/step - loss: 0.0755 - accuracy: 0.9760 - val_loss: 0.2933 - val_accuracy: 0.8582\n",
      "Epoch 45/50\n",
      "13/13 [==============================] - 5s 395ms/step - loss: 0.0751 - accuracy: 0.9784 - val_loss: 0.2277 - val_accuracy: 0.9104\n",
      "Epoch 46/50\n",
      "13/13 [==============================] - 5s 392ms/step - loss: 0.0822 - accuracy: 0.9760 - val_loss: 0.3323 - val_accuracy: 0.8433\n",
      "Epoch 47/50\n",
      "13/13 [==============================] - 5s 396ms/step - loss: 0.1069 - accuracy: 0.9615 - val_loss: 0.1813 - val_accuracy: 0.9478\n",
      "Epoch 48/50\n",
      "13/13 [==============================] - 5s 393ms/step - loss: 0.0683 - accuracy: 0.9880 - val_loss: 0.1849 - val_accuracy: 0.9328\n",
      "Epoch 49/50\n",
      "13/13 [==============================] - 5s 397ms/step - loss: 0.0922 - accuracy: 0.9736 - val_loss: 0.1942 - val_accuracy: 0.9328\n",
      "Epoch 50/50\n",
      "13/13 [==============================] - 5s 394ms/step - loss: 0.0742 - accuracy: 0.9856 - val_loss: 0.2944 - val_accuracy: 0.8582\n"
     ]
    }
   ],
   "source": [
    "reg = model.fit_generator(\n",
    "  training_data_set,\n",
    "  validation_data=test_data_set,\n",
    "  epochs=50,\n",
    "  steps_per_epoch=len(training_data_set),\n",
    "  validation_steps=len(test_data_set)\n",
    ")"
   ]
  },
  {
   "cell_type": "code",
   "execution_count": 26,
   "metadata": {
    "colab": {
     "base_uri": "https://localhost:8080/",
     "height": 265
    },
    "id": "pvJFTwa81Vzj",
    "outputId": "e197a928-bdb3-4971-e808-97717529eaff"
   },
   "outputs": [
    {
     "data": {
      "image/png": "[encoded data removed]",
      "text/plain": [
       "<Figure size 432x288 with 1 Axes>"
      ]
     },
     "metadata": {
      "needs_background": "light",
      "tags": []
     },
     "output_type": "display_data"
    }
   ],
   "source": [
    "import matplotlib.pyplot as plt\n",
    "plt.plot(reg.history['loss'],label='loss')\n",
    "plt.plot(reg.history['val_loss'],label = 'value_loss')\n",
    "plt.legend()\n",
    "plt.show()"
   ]
  },
  {
   "cell_type": "code",
   "execution_count": 28,
   "metadata": {
    "colab": {
     "base_uri": "https://localhost:8080/",
     "height": 265
    },
    "id": "CF1mx2ps4z1T",
    "outputId": "f3a78de6-27c5-4bc0-e412-a7d7f61845c9"
   },
   "outputs": [
    {
     "data": {
      "image/png": "[encoded data removed]",
      "text/plain": [
       "<Figure size 432x288 with 1 Axes>"
      ]
     },
     "metadata": {
      "needs_background": "light",
      "tags": []
     },
     "output_type": "display_data"
    }
   ],
   "source": [
    "import matplotlib.pyplot as plt\n",
    "plt.plot(reg.history['accuracy'],label='accuracy')\n",
    "plt.plot(reg.history['val_accuracy'],label = 'val_accuracy')\n",
    "plt.legend()\n",
    "plt.show()"
   ]
  },
  {
   "cell_type": "code",
   "execution_count": 29,
   "metadata": {
    "id": "xjR5fuK-4-ka"
   },
   "outputs": [],
   "source": [
    "y_pred = model.predict(test_data_set)"
   ]
  },
  {
   "cell_type": "code",
   "execution_count": 30,
   "metadata": {
    "colab": {
     "base_uri": "https://localhost:8080/"
    },
    "id": "tn-HnF345O4R",
    "outputId": "a8307de5-3de1-4e04-e833-7d23c6dabecb"
   },
   "outputs": [
    {
     "data": {
      "text/plain": [
       "array([[8.24786067e-01, 1.75213963e-01],\n",
       "       [6.93038762e-01, 3.06961268e-01],\n",
       "       [7.12567031e-01, 2.87432939e-01],\n",
       "       [9.98768270e-01, 1.23166444e-03],\n",
       "       [2.84281224e-01, 7.15718746e-01],\n",
       "       [1.23052187e-02, 9.87694740e-01],\n",
       "       [1.01609930e-01, 8.98390114e-01],\n",
       "       [7.78937936e-02, 9.22106266e-01],\n",
       "       [7.97586024e-01, 2.02413961e-01],\n",
       "       [1.52756954e-02, 9.84724283e-01],\n",
       "       [3.56160760e-01, 6.43839180e-01],\n",
       "       [9.16027486e-01, 8.39725509e-02],\n",
       "       [9.99975801e-01, 2.42254118e-05],\n",
       "       [2.01020297e-02, 9.79898036e-01],\n",
       "       [1.26394602e-02, 9.87360537e-01],\n",
       "       [9.99458849e-01, 5.41138696e-04],\n",
       "       [8.01300943e-01, 1.98699057e-01],\n",
       "       [4.75556284e-01, 5.24443746e-01],\n",
       "       [9.98435915e-01, 1.56411936e-03],\n",
       "       [9.83850658e-01, 1.61492638e-02],\n",
       "       [9.54059362e-01, 4.59405892e-02],\n",
       "       [1.60988837e-01, 8.39011133e-01],\n",
       "       [8.68606381e-03, 9.91313994e-01],\n",
       "       [9.99415159e-01, 5.84913534e-04],\n",
       "       [9.98432696e-01, 1.56727596e-03],\n",
       "       [4.70557034e-01, 5.29442966e-01],\n",
       "       [1.84492469e-02, 9.81550813e-01],\n",
       "       [5.22139013e-01, 4.77860957e-01],\n",
       "       [9.98776019e-01, 1.22391549e-03],\n",
       "       [1.86110988e-01, 8.13889027e-01],\n",
       "       [9.96597826e-01, 3.40222614e-03],\n",
       "       [9.98741329e-01, 1.25872099e-03],\n",
       "       [7.13608935e-02, 9.28639114e-01],\n",
       "       [5.94250500e-01, 4.05749500e-01],\n",
       "       [5.75962007e-01, 4.24037993e-01],\n",
       "       [9.99221087e-01, 7.78855640e-04],\n",
       "       [9.88242805e-01, 1.17571810e-02],\n",
       "       [9.93082285e-01, 6.91768434e-03],\n",
       "       [9.58205938e-01, 4.17941287e-02],\n",
       "       [3.59478928e-02, 9.64052141e-01],\n",
       "       [8.43604282e-02, 9.15639579e-01],\n",
       "       [9.99914050e-01, 8.59377760e-05],\n",
       "       [4.33982879e-01, 5.66017091e-01],\n",
       "       [1.32230148e-02, 9.86777008e-01],\n",
       "       [8.15768838e-01, 1.84231132e-01],\n",
       "       [9.99381900e-01, 6.18086022e-04],\n",
       "       [3.10368207e-03, 9.96896267e-01],\n",
       "       [4.33561951e-01, 5.66438019e-01],\n",
       "       [1.37437303e-02, 9.86256301e-01],\n",
       "       [1.74470589e-01, 8.25529397e-01],\n",
       "       [7.48979926e-01, 2.51020074e-01],\n",
       "       [2.43367821e-01, 7.56632209e-01],\n",
       "       [4.75356057e-02, 9.52464342e-01],\n",
       "       [8.57188761e-01, 1.42811179e-01],\n",
       "       [5.04178047e-01, 4.95821983e-01],\n",
       "       [2.18952764e-02, 9.78104770e-01],\n",
       "       [9.05509770e-01, 9.44902673e-02],\n",
       "       [7.28296489e-02, 9.27170336e-01],\n",
       "       [9.63916183e-01, 3.60837616e-02],\n",
       "       [5.00096142e-01, 4.99903858e-01],\n",
       "       [3.53960171e-02, 9.64603961e-01],\n",
       "       [7.09076673e-02, 9.29092288e-01],\n",
       "       [9.99410033e-01, 5.90017764e-04],\n",
       "       [1.12138540e-02, 9.88786221e-01],\n",
       "       [2.17930209e-02, 9.78206992e-01],\n",
       "       [9.99518514e-01, 4.81504889e-04],\n",
       "       [2.22630892e-02, 9.77736890e-01],\n",
       "       [3.39742154e-02, 9.66025829e-01],\n",
       "       [8.20037443e-03, 9.91799712e-01],\n",
       "       [3.79078425e-02, 9.62092221e-01],\n",
       "       [1.29207959e-02, 9.87079263e-01],\n",
       "       [6.02455616e-01, 3.97544324e-01],\n",
       "       [1.00000000e+00, 2.85078876e-08],\n",
       "       [9.99583781e-01, 4.16275754e-04],\n",
       "       [9.99881387e-01, 1.18552809e-04],\n",
       "       [9.03545141e-01, 9.64548960e-02],\n",
       "       [9.99995828e-01, 4.17287993e-06],\n",
       "       [9.97649372e-01, 2.35061022e-03],\n",
       "       [9.99991536e-01, 8.44156784e-06],\n",
       "       [9.99055803e-01, 9.44229891e-04],\n",
       "       [9.99821007e-01, 1.79056471e-04],\n",
       "       [3.10040619e-02, 9.68995988e-01],\n",
       "       [9.31391776e-01, 6.86081946e-02],\n",
       "       [9.88026381e-01, 1.19735412e-02],\n",
       "       [2.05469672e-02, 9.79453087e-01],\n",
       "       [5.11150360e-01, 4.88849610e-01],\n",
       "       [9.87026989e-01, 1.29730050e-02],\n",
       "       [9.99999881e-01, 7.81085845e-08],\n",
       "       [4.40340750e-02, 9.55965936e-01],\n",
       "       [2.13069096e-02, 9.78693008e-01],\n",
       "       [1.11281104e-01, 8.88718903e-01],\n",
       "       [9.84185517e-01, 1.58145018e-02],\n",
       "       [8.74864817e-01, 1.25135168e-01],\n",
       "       [9.95258629e-01, 4.74137301e-03],\n",
       "       [3.98513600e-02, 9.60148573e-01],\n",
       "       [9.95001137e-01, 4.99878731e-03],\n",
       "       [7.51968175e-02, 9.24803138e-01],\n",
       "       [3.47373635e-01, 6.52626395e-01],\n",
       "       [4.49624993e-02, 9.55037475e-01],\n",
       "       [9.99919295e-01, 8.07528922e-05],\n",
       "       [2.45760337e-01, 7.54239619e-01],\n",
       "       [9.32775021e-01, 6.72250316e-02],\n",
       "       [1.27535731e-01, 8.72464299e-01],\n",
       "       [2.64857292e-01, 7.35142708e-01],\n",
       "       [5.78876734e-01, 4.21123296e-01],\n",
       "       [9.99213934e-01, 7.86063669e-04],\n",
       "       [3.47233266e-02, 9.65276718e-01],\n",
       "       [9.88146842e-01, 1.18531315e-02],\n",
       "       [7.62091577e-01, 2.37908393e-01],\n",
       "       [3.08272205e-02, 9.69172776e-01],\n",
       "       [7.30861366e-01, 2.69138664e-01],\n",
       "       [4.84913468e-01, 5.15086472e-01],\n",
       "       [8.17167401e-01, 1.82832643e-01],\n",
       "       [9.95484591e-01, 4.51543042e-03],\n",
       "       [9.99654293e-01, 3.45742505e-04],\n",
       "       [9.77001607e-01, 2.29983758e-02],\n",
       "       [6.77409023e-02, 9.32259083e-01],\n",
       "       [9.99217987e-01, 7.82051124e-04],\n",
       "       [9.96420264e-01, 3.57973087e-03],\n",
       "       [9.99912262e-01, 8.77106795e-05],\n",
       "       [3.37075181e-02, 9.66292441e-01],\n",
       "       [2.29743406e-01, 7.70256579e-01],\n",
       "       [1.85733233e-02, 9.81426656e-01],\n",
       "       [7.57565737e-01, 2.42434263e-01],\n",
       "       [9.99949813e-01, 5.02179428e-05],\n",
       "       [1.38381878e-02, 9.86161828e-01],\n",
       "       [9.44842577e-01, 5.51574863e-02],\n",
       "       [2.68924441e-02, 9.73107636e-01],\n",
       "       [7.66824335e-02, 9.23317611e-01],\n",
       "       [1.00946389e-01, 8.99053633e-01],\n",
       "       [9.58383262e-01, 4.16167118e-02],\n",
       "       [4.76906061e-01, 5.23093939e-01],\n",
       "       [9.98099387e-01, 1.90068502e-03],\n",
       "       [9.99982238e-01, 1.78169794e-05]], dtype=float32)"
      ]
     },
     "execution_count": 30,
     "metadata": {
      "tags": []
     },
     "output_type": "execute_result"
    }
   ],
   "source": [
    "y_pred"
   ]
  },
  {
   "cell_type": "code",
   "execution_count": 31,
   "metadata": {
    "id": "zVfMGtq-5Q1P"
   },
   "outputs": [],
   "source": [
    "import numpy as np\n",
    "y_pred = np.argmax(y_pred,axis=1)"
   ]
  },
  {
   "cell_type": "code",
   "execution_count": 32,
   "metadata": {
    "colab": {
     "base_uri": "https://localhost:8080/"
    },
    "id": "p1Iqkdta5goo",
    "outputId": "5d3c19fb-e48b-4cc7-8497-5fae92cac843"
   },
   "outputs": [
    {
     "data": {
      "text/plain": [
       "array([0, 0, 0, 0, 1, 1, 1, 1, 0, 1, 1, 0, 0, 1, 1, 0, 0, 1, 0, 0, 0, 1,\n",
       "       1, 0, 0, 1, 1, 0, 0, 1, 0, 0, 1, 0, 0, 0, 0, 0, 0, 1, 1, 0, 1, 1,\n",
       "       0, 0, 1, 1, 1, 1, 0, 1, 1, 0, 0, 1, 0, 1, 0, 0, 1, 1, 0, 1, 1, 0,\n",
       "       1, 1, 1, 1, 1, 0, 0, 0, 0, 0, 0, 0, 0, 0, 0, 1, 0, 0, 1, 0, 0, 0,\n",
       "       1, 1, 1, 0, 0, 0, 1, 0, 1, 1, 1, 0, 1, 0, 1, 1, 0, 0, 1, 0, 0, 1,\n",
       "       0, 1, 0, 0, 0, 0, 1, 0, 0, 0, 1, 1, 1, 0, 0, 1, 0, 1, 1, 1, 0, 1,\n",
       "       0, 0])"
      ]
     },
     "execution_count": 32,
     "metadata": {
      "tags": []
     },
     "output_type": "execute_result"
    }
   ],
   "source": [
    "y_pred"
   ]
  },
  {
   "cell_type": "code",
   "execution_count": 33,
   "metadata": {
    "id": "TBwNHpBo5hrL"
   },
   "outputs": [],
   "source": [
    "from tensorflow.keras.preprocessing import image"
   ]
  },
  {
   "cell_type": "code",
   "execution_count": 34,
   "metadata": {
    "id": "5NE8M8do5r_W"
   },
   "outputs": [],
   "source": [
    "img = image.load_img('/content/drive/My Drive/Deep learning CNN  Data Sets/Malaria-Detection-master/Dataset/Test/Uninfected/2.png',target_size=(224,224))"
   ]
  },
  {
   "cell_type": "code",
   "execution_count": 35,
   "metadata": {
    "colab": {
     "base_uri": "https://localhost:8080/"
    },
    "id": "xedhRtk26LkD",
    "outputId": "09c5cc0f-a16f-4484-f3ff-0d131fa13636"
   },
   "outputs": [
    {
     "data": {
      "text/plain": [
       "array([[[0., 0., 0.],\n",
       "        [0., 0., 0.],\n",
       "        [0., 0., 0.],\n",
       "        ...,\n",
       "        [0., 0., 0.],\n",
       "        [0., 0., 0.],\n",
       "        [0., 0., 0.]],\n",
       "\n",
       "       [[0., 0., 0.],\n",
       "        [0., 0., 0.],\n",
       "        [0., 0., 0.],\n",
       "        ...,\n",
       "        [0., 0., 0.],\n",
       "        [0., 0., 0.],\n",
       "        [0., 0., 0.]],\n",
       "\n",
       "       [[0., 0., 0.],\n",
       "        [0., 0., 0.],\n",
       "        [0., 0., 0.],\n",
       "        ...,\n",
       "        [0., 0., 0.],\n",
       "        [0., 0., 0.],\n",
       "        [0., 0., 0.]],\n",
       "\n",
       "       ...,\n",
       "\n",
       "       [[0., 0., 0.],\n",
       "        [0., 0., 0.],\n",
       "        [0., 0., 0.],\n",
       "        ...,\n",
       "        [0., 0., 0.],\n",
       "        [0., 0., 0.],\n",
       "        [0., 0., 0.]],\n",
       "\n",
       "       [[0., 0., 0.],\n",
       "        [0., 0., 0.],\n",
       "        [0., 0., 0.],\n",
       "        ...,\n",
       "        [0., 0., 0.],\n",
       "        [0., 0., 0.],\n",
       "        [0., 0., 0.]],\n",
       "\n",
       "       [[0., 0., 0.],\n",
       "        [0., 0., 0.],\n",
       "        [0., 0., 0.],\n",
       "        ...,\n",
       "        [0., 0., 0.],\n",
       "        [0., 0., 0.],\n",
       "        [0., 0., 0.]]], dtype=float32)"
      ]
     },
     "execution_count": 35,
     "metadata": {
      "tags": []
     },
     "output_type": "execute_result"
    }
   ],
   "source": [
    "a = image.img_to_array(img)\n",
    "a"
   ]
  },
  {
   "cell_type": "code",
   "execution_count": 36,
   "metadata": {
    "colab": {
     "base_uri": "https://localhost:8080/"
    },
    "id": "iQJNFe8B6R6G",
    "outputId": "7af76251-6b5c-44bf-bd73-1dd76008b5bd"
   },
   "outputs": [
    {
     "data": {
      "text/plain": [
       "(224, 224, 3)"
      ]
     },
     "execution_count": 36,
     "metadata": {
      "tags": []
     },
     "output_type": "execute_result"
    }
   ],
   "source": [
    "a.shape"
   ]
  },
  {
   "cell_type": "code",
   "execution_count": 37,
   "metadata": {
    "colab": {
     "base_uri": "https://localhost:8080/"
    },
    "id": "FU6NxarM6VrY",
    "outputId": "e0606350-becf-48d5-b256-321bcc2276dc"
   },
   "outputs": [
    {
     "data": {
      "text/plain": [
       "(1, 224, 224, 3)"
      ]
     },
     "execution_count": 37,
     "metadata": {
      "tags": []
     },
     "output_type": "execute_result"
    }
   ],
   "source": [
    "a=np.expand_dims(a,axis=0)\n",
    "img_data=preprocess_input(a)\n",
    "img_data.shape"
   ]
  },
  {
   "cell_type": "code",
   "execution_count": 38,
   "metadata": {
    "colab": {
     "base_uri": "https://localhost:8080/"
    },
    "id": "pBnbwi-96qSQ",
    "outputId": "eb8c3a1a-89bb-4445-d9bd-947c88eac097"
   },
   "outputs": [
    {
     "data": {
      "text/plain": [
       "array([[1., 0.]], dtype=float32)"
      ]
     },
     "execution_count": 38,
     "metadata": {
      "tags": []
     },
     "output_type": "execute_result"
    }
   ],
   "source": [
    "model.predict(img_data)"
   ]
  },
  {
   "cell_type": "code",
   "execution_count": 39,
   "metadata": {
    "id": "jeRnxBG16vdJ"
   },
   "outputs": [],
   "source": [
    "b = np.argmax(model.predict(img_data),axis=1)"
   ]
  },
  {
   "cell_type": "code",
   "execution_count": 41,
   "metadata": {
    "colab": {
     "base_uri": "https://localhost:8080/"
    },
    "id": "RfnSqoF664Xh",
    "outputId": "f77f7e27-72b1-40e1-c92d-bf4057c6d4dc"
   },
   "outputs": [
    {
     "name": "stdout",
     "output_type": "stream",
     "text": [
      "infected_person\n"
     ]
    }
   ],
   "source": [
    "if b==1:\n",
    "  print('uninfected')\n",
    "\n",
    "else:\n",
    "  print('infected_person')"
   ]
  },
  {
   "cell_type": "code",
   "execution_count": null,
   "metadata": {
    "id": "SZqFmivP7KAY"
   },
   "outputs": [],
   "source": []
  }
 ],
 "metadata": {
  "accelerator": "GPU",
  "colab": {
   "collapsed_sections": [],
   "name": "Untitled",
   "provenance": []
  },
  "kernelspec": {
   "display_name": "Python 3",
   "language": "python",
   "name": "python3"
  },
  "language_info": {
   "codemirror_mode": {
    "name": "ipython",
    "version": 3
   },
   "file_extension": ".py",
   "mimetype": "text/x-python",
   "name": "python",
   "nbconvert_exporter": "python",
   "pygments_lexer": "ipython3",
   "version": "3.7.4"
  }
 },
 "nbformat": 4,
 "nbformat_minor": 1
}
